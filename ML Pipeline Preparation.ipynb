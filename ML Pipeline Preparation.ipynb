{
 "cells": [
  {
   "cell_type": "markdown",
   "metadata": {},
   "source": [
    "# ML Pipeline Preparation\n",
    "Follow the instructions below to help you create your ML pipeline.\n",
    "### 1. Import libraries and load data from database.\n",
    "- Import Python libraries\n",
    "- Load dataset from database with [`read_sql_table`](https://pandas.pydata.org/pandas-docs/stable/generated/pandas.read_sql_table.html)\n",
    "- Define feature and target variables X and Y"
   ]
  },
  {
   "cell_type": "code",
   "execution_count": 1,
   "metadata": {},
   "outputs": [
    {
     "name": "stderr",
     "output_type": "stream",
     "text": [
      "[nltk_data] Downloading package punkt to\n",
      "[nltk_data]     /Users/acoullandreau/nltk_data...\n",
      "[nltk_data]   Unzipping tokenizers/punkt.zip.\n",
      "[nltk_data] Downloading package stopwords to\n",
      "[nltk_data]     /Users/acoullandreau/nltk_data...\n",
      "[nltk_data]   Unzipping corpora/stopwords.zip.\n",
      "[nltk_data] Downloading package wordnet to\n",
      "[nltk_data]     /Users/acoullandreau/nltk_data...\n",
      "[nltk_data]   Unzipping corpora/wordnet.zip.\n"
     ]
    },
    {
     "data": {
      "text/plain": [
       "True"
      ]
     },
     "execution_count": 1,
     "metadata": {},
     "output_type": "execute_result"
    }
   ],
   "source": [
    "import nltk\n",
    "nltk.download('punkt')\n",
    "nltk.download('stopwords')\n",
    "nltk.download('wordnet')"
   ]
  },
  {
   "cell_type": "code",
   "execution_count": 2,
   "metadata": {},
   "outputs": [],
   "source": [
    "# import libraries\n",
    "\n",
    "from nltk.corpus import stopwords\n",
    "from nltk.tokenize import word_tokenize\n",
    "from nltk.stem.wordnet import WordNetLemmatizer\n",
    "\n",
    "import numpy as np\n",
    "import pandas as pd\n",
    "import re\n",
    "from sqlalchemy import create_engine\n",
    "\n",
    "from sklearn.ensemble import RandomForestClassifier\n",
    "from sklearn.pipeline import Pipeline\n",
    "from sklearn.feature_extraction.text import CountVectorizer, TfidfTransformer\n",
    "from sklearn.model_selection import train_test_split\n",
    "from sklearn.multioutput import MultiOutputClassifier\n",
    "from sklearn.metrics import classification_report"
   ]
  },
  {
   "cell_type": "code",
   "execution_count": 3,
   "metadata": {},
   "outputs": [],
   "source": [
    "# load data from database\n",
    "engine = create_engine('sqlite:///DisasterResponse.db')\n",
    "df = pd.read_sql(\"SELECT * FROM MessagesWithCategory\", engine)\n",
    "X = df.iloc[:, :4]\n",
    "Y = df.iloc[:, 5:]"
   ]
  },
  {
   "cell_type": "markdown",
   "metadata": {},
   "source": [
    "### 2. Write a tokenization function to process your text data"
   ]
  },
  {
   "cell_type": "code",
   "execution_count": 4,
   "metadata": {},
   "outputs": [],
   "source": [
    "lemmatizer = WordNetLemmatizer()\n",
    "\n",
    "def tokenize(text):\n",
    "    #we convert the text to lower case\n",
    "    text = text.lower()\n",
    "    \n",
    "    # we remove the punctuation\n",
    "    text = re.sub(r\"[^a-z0-9\\s]\", \" \", text)\n",
    "    \n",
    "    # we tokenize the text\n",
    "    words = word_tokenize(text)\n",
    "    \n",
    "    # we lemmatize  and remove the stop words\n",
    "    words = [lemmatizer.lemmatize(word) for word in words if word not in stopwords.words('english')]\n",
    "    \n",
    "    return words"
   ]
  },
  {
   "cell_type": "markdown",
   "metadata": {},
   "source": [
    "### 3. Build a machine learning pipeline\n",
    "This machine pipeline should take in the `message` column as input and output classification results on the other 36 categories in the dataset. You may find the [MultiOutputClassifier](http://scikit-learn.org/stable/modules/generated/sklearn.multioutput.MultiOutputClassifier.html) helpful for predicting multiple target variables."
   ]
  },
  {
   "cell_type": "code",
   "execution_count": 5,
   "metadata": {},
   "outputs": [],
   "source": [
    "pipeline = Pipeline([\n",
    "    ('vect', CountVectorizer(tokenizer=tokenize)),\n",
    "    ('tfidf', TfidfTransformer()),\n",
    "    ('clf', MultiOutputClassifier(RandomForestClassifier(), n_jobs=-1))\n",
    "])\n"
   ]
  },
  {
   "cell_type": "markdown",
   "metadata": {},
   "source": [
    "### 4. Train pipeline\n",
    "- Split data into train and test sets\n",
    "- Train pipeline"
   ]
  },
  {
   "cell_type": "code",
   "execution_count": 6,
   "metadata": {},
   "outputs": [
    {
     "data": {
      "text/plain": [
       "Pipeline(memory=None,\n",
       "     steps=[('vect', CountVectorizer(analyzer='word', binary=False, decode_error='strict',\n",
       "        dtype=<class 'numpy.int64'>, encoding='utf-8', input='content',\n",
       "        lowercase=True, max_df=1.0, max_features=None, min_df=1,\n",
       "        ngram_range=(1, 1), preprocessor=None, stop_words=None,\n",
       "        strip...ob_score=False, random_state=None, verbose=0,\n",
       "            warm_start=False),\n",
       "           n_jobs=-1))])"
      ]
     },
     "execution_count": 6,
     "metadata": {},
     "output_type": "execute_result"
    }
   ],
   "source": [
    "X_train, X_test, y_train, y_test = train_test_split(X['message'], Y, test_size=0.2, random_state=42)\n",
    "\n",
    "pipeline.fit(X_train, y_train)\n"
   ]
  },
  {
   "cell_type": "markdown",
   "metadata": {},
   "source": [
    "### 5. Test your model\n",
    "Report the f1 score, precision and recall for each output category of the dataset. You can do this by iterating through the columns and calling sklearn's `classification_report` on each."
   ]
  },
  {
   "cell_type": "code",
   "execution_count": 7,
   "metadata": {},
   "outputs": [],
   "source": [
    "y_pred = pipeline.predict(X_test)"
   ]
  },
  {
   "cell_type": "code",
   "execution_count": 15,
   "metadata": {},
   "outputs": [
    {
     "name": "stdout",
     "output_type": "stream",
     "text": [
      "Classification report for \"request\" category\n",
      "     F1 score (avg): 0.8654452475876729\n",
      "     Precision (avg): 0.8699574507264308\n",
      "     Recall (avg): 0.8796720061022121\n",
      "\n",
      "\n",
      "Classification report for \"offer\" category\n",
      "     F1 score (avg): 0.9975148155228445\n",
      "     Precision (avg): 0.9950419527078566\n",
      "     Recall (avg): 1.0\n",
      "\n",
      "\n",
      "Classification report for \"aid_related\" category\n",
      "     F1 score (avg): 0.7458965483965001\n",
      "     Precision (avg): 0.7480961850498069\n",
      "     Recall (avg): 0.7501906941266209\n",
      "\n",
      "\n",
      "Classification report for \"medical_help\" category\n",
      "     F1 score (avg): 0.8911346980048928\n",
      "     Precision (avg): 0.8883309473663993\n",
      "     Recall (avg): 0.9187643020594966\n",
      "\n",
      "\n",
      "Classification report for \"medical_products\" category\n",
      "     F1 score (avg): 0.9343739944742144\n",
      "     Precision (avg): 0.9451600035034152\n",
      "     Recall (avg): 0.952326468344775\n",
      "\n",
      "\n",
      "Classification report for \"search_and_rescue\" category\n",
      "     F1 score (avg): 0.9672739149336799\n",
      "     Precision (avg): 0.9693349311844746\n",
      "     Recall (avg): 0.9765446224256293\n",
      "\n",
      "\n",
      "Classification report for \"security\" category\n",
      "     F1 score (avg): 0.9746132689364201\n",
      "     Precision (avg): 0.9667099940022859\n",
      "     Recall (avg): 0.9826468344774981\n",
      "\n",
      "\n",
      "Classification report for \"military\" category\n",
      "     F1 score (avg): 0.9593500020857987\n",
      "     Precision (avg): 0.9590680987886817\n",
      "     Recall (avg): 0.9706331045003814\n",
      "\n",
      "\n",
      "Classification report for \"child_alone\" category\n",
      "     F1 score (avg): 1.0\n",
      "     Precision (avg): 1.0\n",
      "     Recall (avg): 1.0\n",
      "\n",
      "\n",
      "Classification report for \"water\" category\n",
      "     F1 score (avg): 0.9296687862027178\n",
      "     Precision (avg): 0.9382593206193002\n",
      "     Recall (avg): 0.9452707856598017\n",
      "\n",
      "\n",
      "Classification report for \"food\" category\n",
      "     F1 score (avg): 0.9269742263476668\n",
      "     Precision (avg): 0.9292292685111077\n",
      "     Recall (avg): 0.9338291380625476\n",
      "\n",
      "\n",
      "Classification report for \"shelter\" category\n",
      "     F1 score (avg): 0.9146022362191778\n",
      "     Precision (avg): 0.9238523805392589\n",
      "     Recall (avg): 0.9303966437833715\n",
      "\n",
      "\n",
      "Classification report for \"clothing\" category\n",
      "     F1 score (avg): 0.983807694974743\n",
      "     Precision (avg): 0.9857125498105895\n",
      "     Recall (avg): 0.9877955758962624\n",
      "\n",
      "\n",
      "Classification report for \"money\" category\n",
      "     F1 score (avg): 0.9733343502706101\n",
      "     Precision (avg): 0.9743840663555775\n",
      "     Recall (avg): 0.9807398932112891\n",
      "\n",
      "\n",
      "Classification report for \"missing_people\" category\n",
      "     F1 score (avg): 0.9833398427779788\n",
      "     Precision (avg): 0.9888756546267857\n",
      "     Recall (avg): 0.9887490465293669\n",
      "\n",
      "\n",
      "Classification report for \"refugees\" category\n",
      "     F1 score (avg): 0.9533541453469621\n",
      "     Precision (avg): 0.9571019613378948\n",
      "     Recall (avg): 0.9677726926010679\n",
      "\n",
      "\n",
      "Classification report for \"death\" category\n",
      "     F1 score (avg): 0.9462500128109097\n",
      "     Precision (avg): 0.9501832501168302\n",
      "     Recall (avg): 0.9590007627765065\n",
      "\n",
      "\n",
      "Classification report for \"other_aid\" category\n",
      "     F1 score (avg): 0.8223745063573582\n",
      "     Precision (avg): 0.8389989645953908\n",
      "     Recall (avg): 0.8705186880244088\n",
      "\n",
      "\n",
      "Classification report for \"infrastructure_related\" category\n",
      "     F1 score (avg): 0.9091096496759553\n",
      "     Precision (avg): 0.9143601359058403\n",
      "     Recall (avg): 0.9376430205949656\n",
      "\n",
      "\n",
      "Classification report for \"transport\" category\n",
      "     F1 score (avg): 0.9340729649492111\n",
      "     Precision (avg): 0.9284816753175842\n",
      "     Recall (avg): 0.9530892448512586\n",
      "\n",
      "\n",
      "Classification report for \"buildings\" category\n",
      "     F1 score (avg): 0.9338782264280957\n",
      "     Precision (avg): 0.943021824306169\n",
      "     Recall (avg): 0.9521357742181541\n",
      "\n",
      "\n",
      "Classification report for \"electricity\" category\n",
      "     F1 score (avg): 0.9664277205336813\n",
      "     Precision (avg): 0.9685083082071345\n",
      "     Recall (avg): 0.9769260106788711\n",
      "\n",
      "\n",
      "Classification report for \"tools\" category\n",
      "     F1 score (avg): 0.9969395562356542\n",
      "     Precision (avg): 0.9938977879481312\n",
      "     Recall (avg): 1.0\n",
      "\n",
      "\n",
      "Classification report for \"hospitals\" category\n",
      "     F1 score (avg): 0.9955947136563876\n",
      "     Precision (avg): 0.9912280701754386\n",
      "     Recall (avg): 1.0\n",
      "\n",
      "\n",
      "Classification report for \"shops\" category\n",
      "     F1 score (avg): 0.9978979552837759\n",
      "     Precision (avg): 0.9958047292143402\n",
      "     Recall (avg): 1.0\n",
      "\n",
      "\n",
      "Classification report for \"aid_centers\" category\n",
      "     F1 score (avg): 0.9935706745993667\n",
      "     Precision (avg): 0.9872234935163997\n",
      "     Recall (avg): 1.0\n",
      "\n",
      "\n",
      "Classification report for \"other_infrastructure\" category\n",
      "     F1 score (avg): 0.9364840841475598\n",
      "     Precision (avg): 0.9167432426179328\n",
      "     Recall (avg): 0.9570938215102975\n",
      "\n",
      "\n",
      "Classification report for \"weather_related\" category\n",
      "     F1 score (avg): 0.8538775821284503\n",
      "     Precision (avg): 0.8597337872029405\n",
      "     Recall (avg): 0.8615560640732265\n",
      "\n",
      "\n",
      "Classification report for \"floods\" category\n",
      "     F1 score (avg): 0.9368539183911967\n",
      "     Precision (avg): 0.9427566905570666\n",
      "     Recall (avg): 0.9466056445461479\n",
      "\n",
      "\n",
      "Classification report for \"storm\" category\n",
      "     F1 score (avg): 0.924930836460377\n",
      "     Precision (avg): 0.9251055182823923\n",
      "     Recall (avg): 0.933066361556064\n",
      "\n",
      "\n",
      "Classification report for \"fire\" category\n",
      "     F1 score (avg): 0.985130104243337\n",
      "     Precision (avg): 0.9834406474445824\n",
      "     Recall (avg): 0.9897025171624714\n",
      "\n",
      "\n",
      "Classification report for \"earthquake\" category\n",
      "     F1 score (avg): 0.9550672270377456\n",
      "     Precision (avg): 0.9554323240099231\n",
      "     Recall (avg): 0.9578565980167811\n",
      "\n",
      "\n",
      "Classification report for \"cold\" category\n",
      "     F1 score (avg): 0.9713950744556924\n",
      "     Precision (avg): 0.9783328172345502\n",
      "     Recall (avg): 0.9795957284515637\n",
      "\n",
      "\n",
      "Classification report for \"other_weather\" category\n",
      "     F1 score (avg): 0.9258080278630354\n",
      "     Precision (avg): 0.93426336926654\n",
      "     Recall (avg): 0.9483218916857361\n",
      "\n",
      "\n",
      "Classification report for \"direct_report\" category\n",
      "     F1 score (avg): 0.8105593447562902\n",
      "     Precision (avg): 0.8281201608134621\n",
      "     Recall (avg): 0.8409610983981693\n",
      "\n",
      "\n"
     ]
    }
   ],
   "source": [
    "i=0\n",
    "reports = {}\n",
    "for column in y_test.columns:\n",
    "    report = classification_report(y_test[column], y_pred[:,i], labels=np.unique(y_pred[:,i]), output_dict=True)\n",
    "    reports[column]=report\n",
    "    i+=1\n",
    "\n",
    "for report in reports:\n",
    "    print('Classification report for \"{}\" category'.format(report))\n",
    "    print('     F1 score (avg):', reports[report]['weighted avg']['f1-score'])\n",
    "    print('     Precision (avg):', reports[report]['weighted avg']['precision'])\n",
    "    print('     Recall (avg):', reports[report]['weighted avg']['recall'])\n",
    "    print('\\n')"
   ]
  },
  {
   "cell_type": "markdown",
   "metadata": {},
   "source": [
    "### 6. Improve your model\n",
    "Use grid search to find better parameters. "
   ]
  },
  {
   "cell_type": "code",
   "execution_count": null,
   "metadata": {},
   "outputs": [],
   "source": [
    "parameters = \n",
    "\n",
    "cv = "
   ]
  },
  {
   "cell_type": "markdown",
   "metadata": {},
   "source": [
    "### 7. Test your model\n",
    "Show the accuracy, precision, and recall of the tuned model.  \n",
    "\n",
    "Since this project focuses on code quality, process, and  pipelines, there is no minimum performance metric needed to pass. However, make sure to fine tune your models for accuracy, precision and recall to make your project stand out - especially for your portfolio!"
   ]
  },
  {
   "cell_type": "code",
   "execution_count": null,
   "metadata": {},
   "outputs": [],
   "source": []
  },
  {
   "cell_type": "markdown",
   "metadata": {},
   "source": [
    "### 8. Try improving your model further. Here are a few ideas:\n",
    "* try other machine learning algorithms\n",
    "* add other features besides the TF-IDF"
   ]
  },
  {
   "cell_type": "code",
   "execution_count": null,
   "metadata": {},
   "outputs": [],
   "source": []
  },
  {
   "cell_type": "markdown",
   "metadata": {},
   "source": [
    "### 9. Export your model as a pickle file"
   ]
  },
  {
   "cell_type": "code",
   "execution_count": null,
   "metadata": {},
   "outputs": [],
   "source": []
  },
  {
   "cell_type": "markdown",
   "metadata": {},
   "source": [
    "### 10. Use this notebook to complete `train.py`\n",
    "Use the template file attached in the Resources folder to write a script that runs the steps above to create a database and export a model based on a new dataset specified by the user."
   ]
  },
  {
   "cell_type": "code",
   "execution_count": null,
   "metadata": {},
   "outputs": [],
   "source": []
  }
 ],
 "metadata": {
  "kernelspec": {
   "display_name": "Python 3",
   "language": "python",
   "name": "python3"
  },
  "language_info": {
   "codemirror_mode": {
    "name": "ipython",
    "version": 3
   },
   "file_extension": ".py",
   "mimetype": "text/x-python",
   "name": "python",
   "nbconvert_exporter": "python",
   "pygments_lexer": "ipython3",
   "version": "3.7.3"
  }
 },
 "nbformat": 4,
 "nbformat_minor": 2
}
